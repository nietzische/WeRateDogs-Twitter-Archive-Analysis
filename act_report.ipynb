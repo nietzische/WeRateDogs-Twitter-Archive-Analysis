{
 "cells": [
  {
   "cell_type": "markdown",
   "metadata": {},
   "source": [
    "## Report: act_report\n"
   ]
  },
  {
   "cell_type": "markdown",
   "metadata": {},
   "source": [
    "### *1. Tweet Source*"
   ]
  },
  {
   "cell_type": "markdown",
   "metadata": {},
   "source": [
    "There are multiple ways of posting tweets on the Twitter social media platform. However, during analysis only four sources contributed to the dataset.These include:\n",
    "        1. Twitter for iPhone\n",
    "        2. Twitter Web Client\n",
    "        3. TweetDeck\n",
    "        4. Vine\n",
    "\n",
    "After the cleaning process, tweets sourced from the now defunct Vine application were longer present in the dataset.\n",
    "Tweetdeck was originally an independent app used for accessing Twitter but has since then been acquired by Twitter and integrated into the Twitter interface."
   ]
  },
  {
   "cell_type": "code",
   "execution_count": 39,
   "metadata": {},
   "outputs": [
    {
     "data": {
      "text/html": [
       "<img src=\"./plots/tweet_source_bar_vertical.png\" width=\"800\" height=\"600\"/>"
      ],
      "text/plain": [
       "<IPython.core.display.Image object>"
      ]
     },
     "execution_count": 39,
     "metadata": {},
     "output_type": "execute_result"
    }
   ],
   "source": [
    "from IPython.display import Image\n",
    "Image(url = \"./plots/tweet_source_bar_vertical.png\", width=800, height=600)"
   ]
  },
  {
   "cell_type": "code",
   "execution_count": 40,
   "metadata": {},
   "outputs": [
    {
     "data": {
      "text/html": [
       "<img src=\"./plots/tweet_source_pie_chart.png\" width=\"600\" height=\"600\"/>"
      ],
      "text/plain": [
       "<IPython.core.display.Image object>"
      ]
     },
     "execution_count": 40,
     "metadata": {},
     "output_type": "execute_result"
    }
   ],
   "source": [
    "from IPython.display import Image\n",
    "Image(url = \"./plots/tweet_source_pie_chart.png\", width=600, height=600)"
   ]
  },
  {
   "cell_type": "markdown",
   "metadata": {},
   "source": [
    "        * About 98% of the tweets were made using the Twitter for iPhone App.\n",
    "\n",
    "Whether or not this can used to support the inference that dog owners prefer to use iPhone's instead of Android is outside the scope of this analysis."
   ]
  },
  {
   "cell_type": "markdown",
   "metadata": {},
   "source": [
    "### *2. Ratings, Retweets and Favorites*"
   ]
  },
  {
   "cell_type": "markdown",
   "metadata": {},
   "source": [
    "There is no correlation between dog ratings in regards to the rating numerator with the number of retweets and favorites.\n",
    "\n",
    "    * There is a strong correlation between retweet counts and favorite counts of 0.9.\n",
    "    * A scatter plot showed a strong positive correlation between retweet counts and favorite counts. This can be translated as the more retweets a tweet has, the higher the likelyhood of having more more favorite counts.\n",
    "    "
   ]
  },
  {
   "cell_type": "code",
   "execution_count": 41,
   "metadata": {},
   "outputs": [
    {
     "data": {
      "text/html": [
       "<img src=\"./plots/favorites_vs_retweets_heat_map.png\" width=\"600\" height=\"600\"/>"
      ],
      "text/plain": [
       "<IPython.core.display.Image object>"
      ]
     },
     "execution_count": 41,
     "metadata": {},
     "output_type": "execute_result"
    }
   ],
   "source": [
    "from IPython.display import Image\n",
    "Image(url = \"./plots/favorites_vs_retweets_heat_map.png\", width=600, height=600)"
   ]
  },
  {
   "cell_type": "code",
   "execution_count": 42,
   "metadata": {},
   "outputs": [
    {
     "data": {
      "text/html": [
       "<img src=\"./plots/favorites_vs_retweets_corr.png\" width=\"600\" height=\"600\"/>"
      ],
      "text/plain": [
       "<IPython.core.display.Image object>"
      ]
     },
     "execution_count": 42,
     "metadata": {},
     "output_type": "execute_result"
    }
   ],
   "source": [
    "from IPython.display import Image\n",
    "Image(url = \"./plots/favorites_vs_retweets_corr.png\", width=600, height=600)"
   ]
  },
  {
   "cell_type": "markdown",
   "metadata": {},
   "source": [
    "###  *3. Popular Dog Breeds*"
   ]
  },
  {
   "cell_type": "markdown",
   "metadata": {},
   "source": [
    "The Golden Retriever is the most popular dog in terms of occuring the most. The top 5 breeds in terms of popularity occur in the following order\n",
    "\n",
    "        1. Golden_Retriever\n",
    "        2. Labrador_Retriever\n",
    "        3. Pembroke\n",
    "        4. Chihuahua\n",
    "        5. Pug\n",
    "\n",
    "   * However, the dog breed with the highest number of retweet counts is the Labrador Retriever and the highest number of favorite counts is the Lakeland Terrier."
   ]
  },
  {
   "cell_type": "code",
   "execution_count": 43,
   "metadata": {},
   "outputs": [
    {
     "data": {
      "text/html": [
       "<img src=\"./plots/dog_breed_bar_horizontal.png\" width=\"600\" height=\"600\"/>"
      ],
      "text/plain": [
       "<IPython.core.display.Image object>"
      ]
     },
     "execution_count": 43,
     "metadata": {},
     "output_type": "execute_result"
    }
   ],
   "source": [
    "from IPython.display import Image\n",
    "Image(url = \"./plots/dog_breed_bar_horizontal.png\", width=600, height=600)"
   ]
  },
  {
   "cell_type": "code",
   "execution_count": 44,
   "metadata": {},
   "outputs": [
    {
     "data": {
      "text/html": [
       "<img src=\"./plots/most_popular_breeds.png\" width=\"1500\" height=\"1000\"/>"
      ],
      "text/plain": [
       "<IPython.core.display.Image object>"
      ]
     },
     "execution_count": 44,
     "metadata": {},
     "output_type": "execute_result"
    }
   ],
   "source": [
    "from IPython.display import Image\n",
    "Image(url = \"./plots/most_popular_breeds.png\", width=1500, height=1000)"
   ]
  },
  {
   "cell_type": "code",
   "execution_count": null,
   "metadata": {},
   "outputs": [],
   "source": []
  },
  {
   "cell_type": "markdown",
   "metadata": {},
   "source": [
    "###  *4. Dog Prediction*"
   ]
  },
  {
   "cell_type": "markdown",
   "metadata": {},
   "source": [
    "The neural network had a success rate of 99.5% in predicting whether an image was a dog or not.\n",
    "\n",
    "   * The other 9 predictions have been assigned a dog breed, eventhough the neural network claasified them as not dogs by assigning False to all three predictions."
   ]
  },
  {
   "cell_type": "code",
   "execution_count": 45,
   "metadata": {},
   "outputs": [
    {
     "data": {
      "text/html": [
       "<img src=\"./plots/dog_prediction_pie_chart.png\" width=\"600\" height=\"600\"/>"
      ],
      "text/plain": [
       "<IPython.core.display.Image object>"
      ]
     },
     "execution_count": 45,
     "metadata": {},
     "output_type": "execute_result"
    }
   ],
   "source": [
    "from IPython.display import Image\n",
    "Image(url = \"./plots/dog_prediction_pie_chart.png\", width=600, height=600)"
   ]
  },
  {
   "cell_type": "code",
   "execution_count": 46,
   "metadata": {},
   "outputs": [
    {
     "data": {
      "text/html": [
       "<img src=\"./plots/not_dog_predictions.png\" width=\"2000\" height=\"2000\"/>"
      ],
      "text/plain": [
       "<IPython.core.display.Image object>"
      ]
     },
     "execution_count": 46,
     "metadata": {},
     "output_type": "execute_result"
    }
   ],
   "source": [
    "from IPython.display import Image\n",
    "Image(url = \"./plots/not_dog_predictions.png\", width=2000, height=2000)"
   ]
  },
  {
   "cell_type": "markdown",
   "metadata": {},
   "source": [
    "* They appear to be all dogs but most of the pictures contain other objects within their frame. This may contribute to them being classified as not being dogs.\n",
    "* One of the images has been labelled as a shopping cart, this is image 6 and this may be due to the dog being inside one. \n",
    "* The other 8 predictions have been assigned a dog breed, eventhough the neural network claasified them as not dogs by assigning False to all three predictions.\n",
    "* The neural network had a success rate of 99.5% in predicting whether an image was a dog or not."
   ]
  },
  {
   "cell_type": "markdown",
   "metadata": {},
   "source": [
    "### *5. Popular Dog Stages*"
   ]
  },
  {
   "cell_type": "markdown",
   "metadata": {},
   "source": [
    "* Pupper is the most popular dog stage in the dataset, followed by doggo and puppo."
   ]
  },
  {
   "cell_type": "code",
   "execution_count": 47,
   "metadata": {},
   "outputs": [
    {
     "data": {
      "text/html": [
       "<img src=\"./plots/dog_stage_bar_chart.png\" width=\"600\" height=\"600\"/>"
      ],
      "text/plain": [
       "<IPython.core.display.Image object>"
      ]
     },
     "execution_count": 47,
     "metadata": {},
     "output_type": "execute_result"
    }
   ],
   "source": [
    "from IPython.display import Image\n",
    "Image(url = \"./plots/dog_stage_bar_chart.png\", width=600, height=600)"
   ]
  },
  {
   "cell_type": "code",
   "execution_count": 48,
   "metadata": {},
   "outputs": [
    {
     "data": {
      "text/html": [
       "<img src=\"./plots/retweet_count_dog_stage.png\" width=\"1000\" height=\"800\"/>"
      ],
      "text/plain": [
       "<IPython.core.display.Image object>"
      ]
     },
     "execution_count": 48,
     "metadata": {},
     "output_type": "execute_result"
    }
   ],
   "source": [
    "from IPython.display import Image\n",
    "Image(url = \"./plots/retweet_count_dog_stage.png\", width=1000, height=800)"
   ]
  },
  {
   "cell_type": "code",
   "execution_count": 49,
   "metadata": {},
   "outputs": [
    {
     "data": {
      "text/html": [
       "<img src=\"./plots/favorite_count_vs_dog_stage.png\" width=\"1000\" height=\"800\"/>"
      ],
      "text/plain": [
       "<IPython.core.display.Image object>"
      ]
     },
     "execution_count": 49,
     "metadata": {},
     "output_type": "execute_result"
    }
   ],
   "source": [
    "from IPython.display import Image\n",
    "Image(url = \"./plots/favorite_count_vs_dog_stage.png\", width=1000, height=800)"
   ]
  },
  {
   "cell_type": "markdown",
   "metadata": {},
   "source": [
    "* Doggo has the highest retweet count, followed by puppo and pupper, eventhough pupper is the most frequently occuring dog stage in the dataset."
   ]
  },
  {
   "cell_type": "markdown",
   "metadata": {},
   "source": [
    "#### **Resources**\n",
    "\n",
    "1. https://tweetdeck.twitter.com/\n"
   ]
  }
 ],
 "metadata": {
  "kernelspec": {
   "display_name": "Python 3",
   "language": "python",
   "name": "python3"
  },
  "language_info": {
   "codemirror_mode": {
    "name": "ipython",
    "version": 3
   },
   "file_extension": ".py",
   "mimetype": "text/x-python",
   "name": "python",
   "nbconvert_exporter": "python",
   "pygments_lexer": "ipython3",
   "version": "3.6.3"
  }
 },
 "nbformat": 4,
 "nbformat_minor": 2
}
